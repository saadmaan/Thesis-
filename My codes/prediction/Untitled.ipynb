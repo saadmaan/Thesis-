{
 "cells": [
  {
   "cell_type": "code",
   "execution_count": 1,
   "metadata": {},
   "outputs": [],
   "source": [
    "import pandas as pd\n",
    "import numpy as np\n",
    "from sklearn.preprocessing import OneHotEncoder, LabelEncoder\n",
    "from  sklearn.neural_network import MLPClassifier\n",
    "from sklearn.ensemble import RandomForestClassifier\n",
    "from sklearn.datasets import make_classification\n",
    "import csv\n",
    "from sklearn.metrics import accuracy_score\n",
    "from sklearn.metrics import precision_score\n",
    "from sklearn.metrics import f1_score \n"
   ]
  },
  {
   "cell_type": "code",
   "execution_count": 2,
   "metadata": {},
   "outputs": [
    {
     "name": "stdout",
     "output_type": "stream",
     "text": [
      "Training the data\n"
     ]
    }
   ],
   "source": [
    "\n",
    "\n",
    "print(\"Training the data\")\n",
    "\n",
    "#Train Data preprocessing\n",
    "filename = 'F:\\THesis\\Nebir Vai ppt\\CHTPD\\SCrime.csv'\n",
    "\n",
    "train_x = pd.read_csv(filename, usecols=['incident_datetime', 'zip', 'hour_of_day', 'day_of_week', 'parent_incident_type'],  dtype={'zip': np.str, 'hour_of_day': np.str} )\n",
    "train_x.fillna(\"N/A\", inplace = True)\n",
    "train_y = pd.read_csv(filename, usecols=['city'])\n",
    "\n",
    "#Test data preprocessing\n",
    "filename = 'F:\\THesis\\Nebir Vai ppt\\CHTPD\\SCrimeTe.csv'\n",
    "\n",
    "test_x = pd.read_csv(filename, usecols=['incident_datetime', 'zip', 'hour_of_day', 'day_of_week', 'parent_incident_type'], dtype={'zip': np.str, 'hour_of_day': np.str})\n",
    "test_x.fillna(\"N/A\", inplace = True)\n",
    "test_y = pd.read_csv(filename, usecols=['city'])"
   ]
  },
  {
   "cell_type": "code",
   "execution_count": 10,
   "metadata": {},
   "outputs": [
    {
     "name": "stderr",
     "output_type": "stream",
     "text": [
      "c:\\python27\\lib\\site-packages\\ipykernel_launcher.py:14: DeprecationWarning: using a non-integer number instead of an integer will result in an error in the future\n",
      "  \n"
     ]
    },
    {
     "ename": "IndexError",
     "evalue": "only integers, slices (`:`), ellipsis (`...`), numpy.newaxis (`None`) and integer or boolean arrays are valid indices",
     "output_type": "error",
     "traceback": [
      "\u001b[1;31m---------------------------------------------------------------------------\u001b[0m",
      "\u001b[1;31mIndexError\u001b[0m                                Traceback (most recent call last)",
      "\u001b[1;32m<ipython-input-10-6dc2951b0f8b>\u001b[0m in \u001b[0;36m<module>\u001b[1;34m()\u001b[0m\n\u001b[0;32m     12\u001b[0m \u001b[1;33m\u001b[0m\u001b[0m\n\u001b[0;32m     13\u001b[0m \u001b[0mle\u001b[0m \u001b[1;33m=\u001b[0m \u001b[0mLabelEncoder\u001b[0m\u001b[1;33m(\u001b[0m\u001b[1;33m)\u001b[0m\u001b[1;33m\u001b[0m\u001b[0m\n\u001b[1;32m---> 14\u001b[1;33m \u001b[0mle\u001b[0m\u001b[1;33m.\u001b[0m\u001b[0mfit\u001b[0m\u001b[1;33m(\u001b[0m\u001b[0mtrain_x\u001b[0m\u001b[1;33m[\u001b[0m\u001b[1;34m'incident_datetime'\u001b[0m\u001b[1;33m]\u001b[0m\u001b[1;33m.\u001b[0m\u001b[0mvalues\u001b[0m\u001b[1;33m)\u001b[0m\u001b[1;33m\u001b[0m\u001b[0m\n\u001b[0m\u001b[0;32m     15\u001b[0m \u001b[0mtrain_x\u001b[0m\u001b[1;33m[\u001b[0m\u001b[1;36m0\u001b[0m\u001b[1;33m]\u001b[0m \u001b[1;33m=\u001b[0m \u001b[0mle\u001b[0m\u001b[1;33m.\u001b[0m\u001b[0mtransform\u001b[0m\u001b[1;33m(\u001b[0m\u001b[0mtrain_x\u001b[0m\u001b[1;33m[\u001b[0m\u001b[1;36m0\u001b[0m\u001b[1;33m]\u001b[0m\u001b[1;33m)\u001b[0m\u001b[1;33m\u001b[0m\u001b[0m\n\u001b[0;32m     16\u001b[0m \u001b[0mtest_x\u001b[0m\u001b[1;33m[\u001b[0m\u001b[1;36m0\u001b[0m\u001b[1;33m]\u001b[0m \u001b[1;33m=\u001b[0m \u001b[0mle\u001b[0m\u001b[1;33m.\u001b[0m\u001b[0mtransform\u001b[0m\u001b[1;33m(\u001b[0m\u001b[0mtest_x\u001b[0m\u001b[1;33m[\u001b[0m\u001b[1;36m0\u001b[0m\u001b[1;33m]\u001b[0m\u001b[1;33m)\u001b[0m\u001b[1;33m\u001b[0m\u001b[0m\n",
      "\u001b[1;31mIndexError\u001b[0m: only integers, slices (`:`), ellipsis (`...`), numpy.newaxis (`None`) and integer or boolean arrays are valid indices"
     ]
    }
   ],
   "source": [
    "# ty = train_y.append(test_y, ignore_index = True)\n",
    "# tx = train_x.append(test_x, ignore_index = True)\n",
    "\n",
    "# le = LabelEncoder()\n",
    "# le.fit(ty)\n",
    "# train_y = le.transform(train_y)\n",
    "# test_y = le.transform(test_y)\n",
    "# fr = [train_x, test_x]\n",
    "# tx = pd.concat(fr)\n",
    "# train_x = train_x[['incident_datetime', 'zip', 'hour_of_day', 'day_of_week', 'parent_incident_type']].values # Return numpy array\n",
    "# test_x = test_x[['incident_datetime', 'zip', 'hour_of_day', 'day_of_week', 'parent_incident_type']].values\n",
    "\n",
    "le = LabelEncoder()\n",
    "le.fit(train_x['incident_datetime'].values)\n",
    "train_x[0] = le.transform(train_x[0])\n",
    "test_x[0] = le.transform(test_x[0])\n",
    "\n",
    "le = LabelEncoder()\n",
    "le.fit(train_x['zip'].values)\n",
    "train_x[1] = le.transform(train_x[1])\n",
    "test_x[1] = le.transform(test_x[1])\n",
    "\n",
    "# le = LabelEncoder()\n",
    "# le.fit(tx['hour_of_day'].values)\n",
    "# train_x[3] = le.transform(train_x[3])\n",
    "# test_x[3] = le.transform(test_x[3])\n",
    "\n",
    "# le = LabelEncoder()\n",
    "# le.fit(tx['day_of_week'].values)\n",
    "# train_x[4] = le.transform(train_x[4])\n",
    "# test_x[4] = le.transform(test_x[4])\n",
    "\n",
    "# le = LabelEncoder()\n",
    "# le.fit(tx['parent_incident_type'].values)\n",
    "# train_x[5] = le.transform(train_x[5])\n",
    "# test_x[5] = le.transform(test_x[5])"
   ]
  },
  {
   "cell_type": "code",
   "execution_count": null,
   "metadata": {},
   "outputs": [],
   "source": [
    "#Random Forest\n",
    "print('Training RandomForest...')\n",
    "clf = RandomForestClassifier(n_estimators = 20)\n",
    "clf.fit(train_x, train_y)\n",
    "pred = clf.predict(test_x)\n",
    "accuracy = accuracy_score(test_y, pred)\n",
    "print('RandomForest accuracy:', accuracy)"
   ]
  }
 ],
 "metadata": {
  "kernelspec": {
   "display_name": "Python 2",
   "language": "python",
   "name": "python2"
  },
  "language_info": {
   "codemirror_mode": {
    "name": "ipython",
    "version": 2
   },
   "file_extension": ".py",
   "mimetype": "text/x-python",
   "name": "python",
   "nbconvert_exporter": "python",
   "pygments_lexer": "ipython2",
   "version": "2.7.13"
  }
 },
 "nbformat": 4,
 "nbformat_minor": 2
}
