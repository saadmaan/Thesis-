{
 "cells": [
  {
   "cell_type": "markdown",
   "metadata": {},
   "source": [
    "### Bhorer Kagoj parse single news article from raw data"
   ]
  },
  {
   "cell_type": "code",
   "execution_count": 1,
   "metadata": {
    "collapsed": false
   },
   "outputs": [
    {
     "name": "stdout",
     "output_type": "stream",
     "text": [
      "initialized! Total articles: 1385\n"
     ]
    }
   ],
   "source": [
    "index = 0\n",
    "articles = []\n",
    "def init():\n",
    "    global articles\n",
    "    input_handle = 'E:/Dropbox/Sachetan_Crawl/raw/none.txt'\n",
    "    output_handle = 'E:/Dropbox/Sachetan_Crawl/bhorer-kagoj/none.txt'\n",
    "    with open(input_handle, 'r',  encoding=\"utf8\") as prothom_alo_raw:\n",
    "        prothom_alo_raw.readline()\n",
    "        articles = prothom_alo_raw.read().split('#####\\n#####\\n')\n",
    "    with open(output_handle, 'w', encoding='utf8') as out:\n",
    "        pass\n",
    "    print('initialized! Total articles: ' + str(len(articles)))\n",
    "    return\n",
    "\n",
    "def print_next_article():\n",
    "    global index\n",
    "    global articles\n",
    "    article_current = articles[index]\n",
    "    bits = article_current[2:-4].split('--\\n--')\n",
    "    print('article index: ' + str(index))\n",
    "    #print('website: ' + bits[0])\n",
    "    #print('link: ' + bits[2])\n",
    "    #print('keywords: ' + bits[3])\n",
    "    print('headline: ' + bits[4])\n",
    "    print('publish_date: ' + bits[2][49:51]+'-'+bits[2][46:48]+'-'+bits[2][41:45])\n",
    "    print('news: ' + bits[6])\n",
    "    index += 1\n",
    "    return\n",
    "\n",
    "def write_current_to_file():\n",
    "    output_handle = 'E:/Dropbox/Sachetan_Crawl/bhorer-kagoj/none.txt'\n",
    "    with open(output_handle, 'a', encoding='utf8') as out:\n",
    "        article_current = articles[index - 1]\n",
    "        lines = article_current[2:-4].split('--\\n--')\n",
    "        out.write(lines[0]  + '\\n')\n",
    "        out.write(lines[2]  + '\\n')\n",
    "        out.write(lines[3]  + '\\n')\n",
    "        out.write(lines[4]  + '\\n')\n",
    "        out.write(lines[2][49:51]+'-'+lines[2][46:48]+'-'+lines[2][41:45]  + '\\n')\n",
    "        out.write(lines[6] + '\\n')\n",
    "        out.write('#######\\n')\n",
    "    return\n",
    "    \n",
    "init()"
   ]
  },
  {
   "cell_type": "code",
   "execution_count": 1513,
   "metadata": {
    "collapsed": false
   },
   "outputs": [
    {
     "ename": "IndexError",
     "evalue": "list index out of range",
     "output_type": "error",
     "traceback": [
      "\u001b[1;31m---------------------------------------------------------------------------\u001b[0m",
      "\u001b[1;31mIndexError\u001b[0m                                Traceback (most recent call last)",
      "\u001b[1;32m<ipython-input-1513-54cb4e555b86>\u001b[0m in \u001b[0;36m<module>\u001b[1;34m()\u001b[0m\n\u001b[1;32m----> 1\u001b[1;33m \u001b[0mprint_next_article\u001b[0m\u001b[1;33m(\u001b[0m\u001b[1;33m)\u001b[0m\u001b[1;33m\u001b[0m\u001b[0m\n\u001b[0m",
      "\u001b[1;32m<ipython-input-1-da32402e6207>\u001b[0m in \u001b[0;36mprint_next_article\u001b[1;34m()\u001b[0m\n\u001b[0;32m     16\u001b[0m     \u001b[1;32mglobal\u001b[0m \u001b[0mindex\u001b[0m\u001b[1;33m\u001b[0m\u001b[0m\n\u001b[0;32m     17\u001b[0m     \u001b[1;32mglobal\u001b[0m \u001b[0marticles\u001b[0m\u001b[1;33m\u001b[0m\u001b[0m\n\u001b[1;32m---> 18\u001b[1;33m     \u001b[0marticle_current\u001b[0m \u001b[1;33m=\u001b[0m \u001b[0marticles\u001b[0m\u001b[1;33m[\u001b[0m\u001b[0mindex\u001b[0m\u001b[1;33m]\u001b[0m\u001b[1;33m\u001b[0m\u001b[0m\n\u001b[0m\u001b[0;32m     19\u001b[0m     \u001b[0mbits\u001b[0m \u001b[1;33m=\u001b[0m \u001b[0marticle_current\u001b[0m\u001b[1;33m[\u001b[0m\u001b[1;36m2\u001b[0m\u001b[1;33m:\u001b[0m\u001b[1;33m-\u001b[0m\u001b[1;36m4\u001b[0m\u001b[1;33m]\u001b[0m\u001b[1;33m.\u001b[0m\u001b[0msplit\u001b[0m\u001b[1;33m(\u001b[0m\u001b[1;34m'--\\n--'\u001b[0m\u001b[1;33m)\u001b[0m\u001b[1;33m\u001b[0m\u001b[0m\n\u001b[0;32m     20\u001b[0m     \u001b[0mprint\u001b[0m\u001b[1;33m(\u001b[0m\u001b[1;34m'article index: '\u001b[0m \u001b[1;33m+\u001b[0m \u001b[0mstr\u001b[0m\u001b[1;33m(\u001b[0m\u001b[0mindex\u001b[0m\u001b[1;33m)\u001b[0m\u001b[1;33m)\u001b[0m\u001b[1;33m\u001b[0m\u001b[0m\n",
      "\u001b[1;31mIndexError\u001b[0m: list index out of range"
     ]
    }
   ],
   "source": [
    "print_next_article()"
   ]
  },
  {
   "cell_type": "markdown",
   "metadata": {},
   "source": [
    "### Add current article to valid list"
   ]
  },
  {
   "cell_type": "code",
   "execution_count": 1,
   "metadata": {
    "collapsed": false
   },
   "outputs": [
    {
     "ename": "NameError",
     "evalue": "name 'write_current_to_file' is not defined",
     "output_type": "error",
     "traceback": [
      "\u001b[1;31m---------------------------------------------------------------------------\u001b[0m",
      "\u001b[1;31mNameError\u001b[0m                                 Traceback (most recent call last)",
      "\u001b[1;32m<ipython-input-1-13364cc313eb>\u001b[0m in \u001b[0;36m<module>\u001b[1;34m()\u001b[0m\n\u001b[1;32m----> 1\u001b[1;33m \u001b[0mwrite_current_to_file\u001b[0m\u001b[1;33m(\u001b[0m\u001b[1;33m)\u001b[0m\u001b[1;33m\u001b[0m\u001b[0m\n\u001b[0m",
      "\u001b[1;31mNameError\u001b[0m: name 'write_current_to_file' is not defined"
     ]
    }
   ],
   "source": [
    "write_current_to_file()"
   ]
  },
  {
   "cell_type": "code",
   "execution_count": 37,
   "metadata": {
    "collapsed": false
   },
   "outputs": [],
   "source": [
    "import datetime\n",
    "class Article:  \n",
    "    def __init__(self, text):\n",
    "        '''create an Article object from newline seperated text'''\n",
    "        lines = text.split('\\n')\n",
    "        self.site = lines[0]\n",
    "        self.link = lines[1]\n",
    "        self.keywords = lines[2].split()\n",
    "        self.headline = lines[3]\n",
    "        textdate = lines[4]\n",
    "        self.date = datetime.date(int(textdate[-4:]), int(textdate[3:5]), int(textdate[:2]))\n",
    "        self.news = lines[5]\n",
    "    \n",
    "    def __str__(self):\n",
    "        '''Converts back to String'''\n",
    "        return (self.site + '\\n'\n",
    "               + self.link + '\\n'\n",
    "               + ' '.join(self.keywords) + '\\n'\n",
    "               + self.headline + '\\n'\n",
    "               + str(self.date) + '\\n'\n",
    "               + self.news)\n",
    "    def __cmp__(self, other):\n",
    "        if self.headline == other.headline and self.news == other.news:\n",
    "            return 0\n",
    "        elif self.date > other.date:\n",
    "            return -1\n",
    "        else:\n",
    "            return 1\n",
    "    def __lt__(self, other):\n",
    "        return self.date > other.date\n",
    "    def __le__(self, other):\n",
    "        return self.date >= other.date\n",
    "    def __eq__(self, other):\n",
    "        return self.headline == other.headline and self.news == other.news\n",
    "    def __ne__(self, other):\n",
    "        return self.news != other.news\n",
    "    def __gt__(self, other):\n",
    "        return self.date < other.date\n",
    "    def __ge__(self, other):\n",
    "        return self.date <= other.date\n",
    "        \n",
    "\n",
    "def get_articles(path):\n",
    "    articles = []\n",
    "    with open(path, 'r', encoding = 'utf-8') as file:\n",
    "        raw = file.read().split('#######\\n')  \n",
    "    for text_block in raw:\n",
    "        article = Article(text_block)\n",
    "        # prevent duplicates\n",
    "        if article not in articles:\n",
    "            articles.append(article)\n",
    "    return articles\n",
    "\n",
    "path = 'E:Dropbox/Sachetan_Crawl/bhorer-kagoj/bhorer_kagoj_road-accident_step-1.txt'\n",
    "articles = get_articles(path)\n",
    "for i in range(len(articles)):\n",
    "    for j in range(i+1, len(articles)):\n",
    "        if articles[i] == articles[j]:\n",
    "            print('### Match pair')\n",
    "            print(articles[i])\n",
    "            print(articles[j])"
   ]
  }
 ],
 "metadata": {
  "kernelspec": {
   "display_name": "Python [Root]",
   "language": "python",
   "name": "Python [Root]"
  },
  "language_info": {
   "codemirror_mode": {
    "name": "ipython",
    "version": 3
   },
   "file_extension": ".py",
   "mimetype": "text/x-python",
   "name": "python",
   "nbconvert_exporter": "python",
   "pygments_lexer": "ipython3",
   "version": "3.5.2"
  }
 },
 "nbformat": 4,
 "nbformat_minor": 0
}
