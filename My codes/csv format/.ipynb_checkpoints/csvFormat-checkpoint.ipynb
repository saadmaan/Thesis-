{
 "cells": [
  {
   "cell_type": "code",
   "execution_count": 14,
   "metadata": {},
   "outputs": [
    {
     "data": {
      "text/plain": [
       "<bound method Series.value_counts of occurrencedayofweek\n",
       "Friday        [16, 12, 20, 14, 15, 3, 23, 18, 22, 21, 5, 19,...\n",
       "Monday        [18, 9, 11, 17, 16, 21, 20, 12, 7, 22, 19, 8, ...\n",
       "Saturday      [19, 17, 21, 20, 18, 6, 1, 15, 22, 0, 14, 10, ...\n",
       "Sunday        [20, 19, 3, 10, 8, 5, 9, 0, 17, 12, 11, 16, 21...\n",
       "Thursday      [0, 7, 8, 1, 18, 19, 22, 5, 11, 13, 16, 23, 15...\n",
       "Tuesday       [2, 3, 21, 13, 15, 18, 0, 9, 7, 11, 23, 8, 12,...\n",
       "Wednesday     [2, 9, 0, 6, 11, 10, 21, 23, 8, 5, 13, 20, 3, ...\n",
       "Name: occurrencehour, dtype: object>"
      ]
     },
     "execution_count": 14,
     "metadata": {},
     "output_type": "execute_result"
    }
   ],
   "source": [
    "import pandas as pd\n",
    "import numpy as np\n",
    "df = pd.read_csv('F:\\THesis\\Dataset\\New\\Crime1.csv',sep=',')\n",
    "col = ['occurrencedayofweek', 'occurrencehour', 'Division']\n",
    "df1 = df[col]\n",
    "# df1[\"occurrencefreq\"] = np.nan\n",
    "# df1.to_csv('F:\\THesis\\Dataset\\New\\Crime1.csv', sep=',')\n",
    "L=[]\n",
    "total_rows = len(df1['occurrencehour'])\n",
    "df1['occurrencedayofweek'].nunique()\n",
    "g = df.groupby('occurrencedayofweek')\n",
    "g['occurrencehour'].unique().value_counts\n",
    "# \n",
    "#     print(df1.value_counts(df.values.flatten()))"
   ]
  },
  {
   "cell_type": "code",
   "execution_count": 16,
   "metadata": {},
   "outputs": [],
   "source": [
    "#for index, row in df.iterrows():\n",
    "   #print row['occurrencedayofweek'], row['occurrencehour']\n",
    "    \n",
    "##  my first logic ....\n"
   ]
  },
  {
   "cell_type": "code",
   "execution_count": 37,
   "metadata": {},
   "outputs": [],
   "source": [
    "import array\n",
    "array.array('i')\n",
    "fr = array.array('i',(0 for i in range(0,25)))\n",
    "sa = array.array('i',(0 for i in range(0,25)))\n",
    "su = array.array('i',(0 for i in range(0,25)))\n",
    "mo = array.array('i',(0 for i in range(0,25)))\n",
    "tu = array.array('i',(0 for i in range(0,25)))\n",
    "we = array.array('i',(0 for i in range(0,25)))\n",
    "th = array.array('i',(0 for i in range(0,25)))\n",
    "\n",
    "k=0;\n",
    "for i in range(total_rows):\n",
    "    if df1.loc[i, ['occurrencedayofweek']].values == 'Friday    ':\n",
    "        for j in range(25):\n",
    "            if df1.loc[i, ['occurrencehour']].values == j:\n",
    "                fr[j]= a[j]+1;\n",
    "                \n",
    "    if df1.loc[i, ['occurrencedayofweek']].values == 'Sunday    ':\n",
    "        for j in range(25):\n",
    "            if df1.loc[i, ['occurrencehour']].values == j:\n",
    "                su[j]= a[j]+1;\n",
    "                \n",
    "    if df1.loc[i, ['occurrencedayofweek']].values == 'Saturday  ':\n",
    "        for j in range(25):\n",
    "            if df1.loc[i, ['occurrencehour']].values == j:\n",
    "                sa[j]= a[j]+1;\n",
    "                \n",
    "    if df1.loc[i, ['occurrencedayofweek']].values == 'Monday    ':\n",
    "        for j in range(25):\n",
    "            if df1.loc[i, ['occurrencehour']].values == j:\n",
    "                mo[j]= a[j]+1;\n",
    "                \n",
    "    if df1.loc[i, ['occurrencedayofweek']].values == 'Tuesday   ':\n",
    "        for j in range(25):\n",
    "            if df1.loc[i, ['occurrencehour']].values == j:\n",
    "                tu[j]= a[j]+1;\n",
    "                \n",
    "    if df1.loc[i, ['occurrencedayofweek']].values == 'Wednesday ':\n",
    "        for j in range(25):\n",
    "            if df1.loc[i, ['occurrencehour']].values == j:\n",
    "                we[j]= a[j]+1;\n",
    "                \n",
    "    if df1.loc[i, ['occurrencedayofweek']].values == 'Thursday  ':\n",
    "        for j in range(25):\n",
    "            if df1.loc[i, ['occurrencehour']].values == j:\n",
    "                th[j]= a[j]+1;\n",
    "                "
   ]
  },
  {
   "cell_type": "code",
   "execution_count": null,
   "metadata": {},
   "outputs": [],
   "source": [
    "for i in range(total_rows):\n",
    "    if df1.loc[i, ['occurrencedayofweek']].values == 'Friday    ':\n",
    "        df['occurancefreq']=Series(fr[df1.loc[i, ['occurrencehour']].values], index=df.index)  "
   ]
  }
 ],
 "metadata": {
  "kernelspec": {
   "display_name": "Python 2",
   "language": "python",
   "name": "python2"
  },
  "language_info": {
   "codemirror_mode": {
    "name": "ipython",
    "version": 2
   },
   "file_extension": ".py",
   "mimetype": "text/x-python",
   "name": "python",
   "nbconvert_exporter": "python",
   "pygments_lexer": "ipython2",
   "version": "2.7.13"
  }
 },
 "nbformat": 4,
 "nbformat_minor": 2
}
