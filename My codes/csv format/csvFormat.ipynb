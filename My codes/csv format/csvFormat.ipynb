{
 "cells": [
  {
   "cell_type": "code",
   "execution_count": 46,
   "metadata": {},
   "outputs": [
    {
     "ename": "NameError",
     "evalue": "name 'index' is not defined",
     "output_type": "error",
     "traceback": [
      "\u001b[1;31m---------------------------------------------------------------------------\u001b[0m",
      "\u001b[1;31mNameError\u001b[0m                                 Traceback (most recent call last)",
      "\u001b[1;32m<ipython-input-46-0edc5d96f2f8>\u001b[0m in \u001b[0;36m<module>\u001b[1;34m()\u001b[0m\n\u001b[0;32m      4\u001b[0m \u001b[0mcol\u001b[0m \u001b[1;33m=\u001b[0m \u001b[1;33m[\u001b[0m\u001b[1;34m'occurrencedayofweek'\u001b[0m\u001b[1;33m,\u001b[0m \u001b[1;34m'occurrencehour'\u001b[0m\u001b[1;33m,\u001b[0m \u001b[1;34m'Division'\u001b[0m\u001b[1;33m]\u001b[0m\u001b[1;33m\u001b[0m\u001b[0m\n\u001b[0;32m      5\u001b[0m \u001b[0mdf1\u001b[0m \u001b[1;33m=\u001b[0m \u001b[0mdf\u001b[0m\u001b[1;33m[\u001b[0m\u001b[0mcol\u001b[0m\u001b[1;33m]\u001b[0m\u001b[1;33m\u001b[0m\u001b[0m\n\u001b[1;32m----> 6\u001b[1;33m \u001b[0moccurrencefreq\u001b[0m \u001b[1;33m=\u001b[0m \u001b[0mpd\u001b[0m\u001b[1;33m.\u001b[0m\u001b[0mDataFrame\u001b[0m\u001b[1;33m(\u001b[0m\u001b[0mindex\u001b[0m\u001b[1;33m=\u001b[0m\u001b[0mindex\u001b[0m\u001b[1;33m,\u001b[0m \u001b[0mcolumns\u001b[0m\u001b[1;33m=\u001b[0m\u001b[0mcolumns\u001b[0m\u001b[1;33m)\u001b[0m\u001b[1;33m\u001b[0m\u001b[0m\n\u001b[0m\u001b[0;32m      7\u001b[0m \u001b[0mdf_\u001b[0m \u001b[1;33m=\u001b[0m \u001b[0mdf_\u001b[0m\u001b[1;33m.\u001b[0m\u001b[0mfillna\u001b[0m\u001b[1;33m(\u001b[0m\u001b[1;36m0\u001b[0m\u001b[1;33m)\u001b[0m\u001b[1;33m\u001b[0m\u001b[0m\n\u001b[0;32m      8\u001b[0m \u001b[0mdf1\u001b[0m\u001b[1;33m.\u001b[0m\u001b[0minsert\u001b[0m\u001b[1;33m(\u001b[0m\u001b[0mloc\u001b[0m\u001b[1;33m,\u001b[0m \u001b[1;34m'occurrencefreq'\u001b[0m\u001b[1;33m,\u001b[0m \u001b[0mvalue\u001b[0m\u001b[1;33m,\u001b[0m \u001b[0mallow_duplicates\u001b[0m\u001b[1;33m=\u001b[0m\u001b[0mFalse\u001b[0m\u001b[1;33m)\u001b[0m\u001b[1;33m\u001b[0m\u001b[0m\n",
      "\u001b[1;31mNameError\u001b[0m: name 'index' is not defined"
     ]
    }
   ],
   "source": [
    "import pandas as pd\n",
    "import numpy as np\n",
    "df = pd.read_csv('F:\\THesis\\Dataset\\New folder\\Book1.csv',sep=',')\n",
    "col = ['occurrencedayofweek', 'occurrencehour', 'Division']\n",
    "df1 = df[col]\n",
    "occurrencefreq = pd.DataFrame(index=index, columns=columns)\n",
    "df_ = df_.fillna(0) \n",
    "df1.insert(loc, 'occurrencefreq', value, allow_duplicates=False)\n",
    "# df1[\"occurrencefreq\"] = np.nan\n",
    "# df1.to_csv('F:\\THesis\\Dataset\\New\\Crime1.csv', sep=',')\n",
    "L=[]\n",
    "total_rows = len(df1['occurrencehour'])\n",
    "df1['occurrencedayofweek'].nunique()\n",
    "g = df.groupby('occurrencedayofweek')\n",
    "g['occurrencehour'].unique().value_counts\n",
    "# \n",
    "#     print(df1.value_counts(df.values.flatten()))"
   ]
  },
  {
   "cell_type": "code",
   "execution_count": 16,
   "metadata": {},
   "outputs": [],
   "source": [
    "#for index, row in df.iterrows():\n",
    "   #print row['occurrencedayofweek'], row['occurrencehour']\n",
    "    \n",
    "##  my first logic ....\n"
   ]
  },
  {
   "cell_type": "code",
   "execution_count": 28,
   "metadata": {},
   "outputs": [],
   "source": [
    "import array\n",
    "array.array('i')\n",
    "fr = array.array('i',(0 for i in range(0,25)))\n",
    "sa = array.array('i',(0 for i in range(0,25)))\n",
    "su = array.array('i',(0 for i in range(0,25)))\n",
    "mo = array.array('i',(0 for i in range(0,25)))\n",
    "tu = array.array('i',(0 for i in range(0,25)))\n",
    "we = array.array('i',(0 for i in range(0,25)))\n",
    "th = array.array('i',(0 for i in range(0,25)))\n",
    "\n",
    "k=0;\n",
    "for i in range(total_rows):\n",
    "    if df1.loc[i, ['occurrencedayofweek']].values == 'Friday    ':\n",
    "        for j in range(25):\n",
    "            if df1.loc[i, ['occurrencehour']].values == j:\n",
    "                fr[j]= fr[j]+1;\n",
    "                \n",
    "    if df1.loc[i, ['occurrencedayofweek']].values == 'Sunday    ':\n",
    "        for j in range(25):\n",
    "            if df1.loc[i, ['occurrencehour']].values == j:\n",
    "                su[j]= su[j]+1;\n",
    "                \n",
    "    if df1.loc[i, ['occurrencedayofweek']].values == 'Saturday  ':\n",
    "        for j in range(25):\n",
    "            if df1.loc[i, ['occurrencehour']].values == j:\n",
    "                sa[j]= sa[j]+1;\n",
    "                \n",
    "    if df1.loc[i, ['occurrencedayofweek']].values == 'Monday    ':\n",
    "        for j in range(25):\n",
    "            if df1.loc[i, ['occurrencehour']].values == j:\n",
    "                mo[j]= mo[j]+1;\n",
    "                \n",
    "    if df1.loc[i, ['occurrencedayofweek']].values == 'Tuesday   ':\n",
    "        for j in range(25):\n",
    "            if df1.loc[i, ['occurrencehour']].values == j:\n",
    "                tu[j]= tu[j]+1;\n",
    "                \n",
    "    if df1.loc[i, ['occurrencedayofweek']].values == 'Wednesday ':\n",
    "        for j in range(25):\n",
    "            if df1.loc[i, ['occurrencehour']].values == j:\n",
    "                we[j]= we[j]+1;\n",
    "                \n",
    "    if df1.loc[i, ['occurrencedayofweek']].values == 'Thursday  ':\n",
    "        for j in range(25):\n",
    "            if df1.loc[i, ['occurrencehour']].values == j:\n",
    "                th[j]= th[j]+1;\n",
    "                "
   ]
  },
  {
   "cell_type": "code",
   "execution_count": 45,
   "metadata": {},
   "outputs": [
    {
     "ename": "NameError",
     "evalue": "name 'occurrencefreq' is not defined",
     "output_type": "error",
     "traceback": [
      "\u001b[1;31m---------------------------------------------------------------------------\u001b[0m",
      "\u001b[1;31mNameError\u001b[0m                                 Traceback (most recent call last)",
      "\u001b[1;32m<ipython-input-45-7be37cdac854>\u001b[0m in \u001b[0;36m<module>\u001b[1;34m()\u001b[0m\n\u001b[0;32m      6\u001b[0m         \u001b[1;31m#df1.loc[i, ['occurrencefreq']]=fr[f]\u001b[0m\u001b[1;33m\u001b[0m\u001b[1;33m\u001b[0m\u001b[0m\n\u001b[0;32m      7\u001b[0m         \u001b[1;31m#df1.insert(i, 'occurrencefreq', fr[f], allow_duplicates=False)\u001b[0m\u001b[1;33m\u001b[0m\u001b[1;33m\u001b[0m\u001b[0m\n\u001b[1;32m----> 8\u001b[1;33m         \u001b[0moccurrencefreq\u001b[0m\u001b[1;33m.\u001b[0m\u001b[0mappend\u001b[0m\u001b[1;33m(\u001b[0m\u001b[0mfr\u001b[0m\u001b[1;33m[\u001b[0m\u001b[0mf\u001b[0m\u001b[1;33m]\u001b[0m\u001b[1;33m)\u001b[0m\u001b[1;33m\u001b[0m\u001b[0m\n\u001b[0m",
      "\u001b[1;31mNameError\u001b[0m: name 'occurrencefreq' is not defined"
     ]
    }
   ],
   "source": [
    "for i in range(total_rows):\n",
    "    if df1.loc[i, ['occurrencedayofweek']].values == 'Friday    ':\n",
    "        e= df1.loc[i, ['occurrencehour']].values\n",
    "        pd.to_numeric(e)\n",
    "        f=e[0]\n",
    "        #df1.loc[i, ['occurrencefreq']]=fr[f]  \n",
    "        #df1.insert(i, 'occurrencefreq', fr[f], allow_duplicates=False)\n",
    "        occurrencefreq.append(fr[f])"
   ]
  },
  {
   "cell_type": "code",
   "execution_count": null,
   "metadata": {},
   "outputs": [],
   "source": []
  }
 ],
 "metadata": {
  "kernelspec": {
   "display_name": "Python 2",
   "language": "python",
   "name": "python2"
  },
  "language_info": {
   "codemirror_mode": {
    "name": "ipython",
    "version": 2
   },
   "file_extension": ".py",
   "mimetype": "text/x-python",
   "name": "python",
   "nbconvert_exporter": "python",
   "pygments_lexer": "ipython2",
   "version": "2.7.13"
  }
 },
 "nbformat": 4,
 "nbformat_minor": 2
}
